{
 "cells": [
  {
   "cell_type": "code",
   "execution_count": 6,
   "id": "fe4a9654-4be9-48b0-a710-ef57384073ad",
   "metadata": {},
   "outputs": [
    {
     "data": {
      "application/vnd.jupyter.widget-view+json": {
       "model_id": "53cf67593ab74fed9ba3e6b5ff39465b",
       "version_major": 2,
       "version_minor": 0
      },
      "text/plain": [
       "interactive(children=(Checkbox(value=False, description='Display_Debug_Messages'), Output()), _dom_classes=('w…"
      ]
     },
     "metadata": {},
     "output_type": "display_data"
    },
    {
     "data": {
      "application/vnd.jupyter.widget-view+json": {
       "model_id": "fed1e1cbb1dc41bc8c6ef2e0b8c727dc",
       "version_major": 2,
       "version_minor": 0
      },
      "text/plain": [
       "interactive(children=(Dropdown(description='Search', options=('Material', 'Substrate', 'Fabrication', 'Thickne…"
      ]
     },
     "metadata": {},
     "output_type": "display_data"
    },
    {
     "name": "stdout",
     "output_type": "stream",
     "text": [
      "\n"
     ]
    }
   ],
   "source": [
    "# Load XLSX and create dropdown of columns\n",
    "import sys\n",
    "import numpy as np\n",
    "import pandas as pd\n",
    "from ipywidgets import interact, interactive, fixed, interact_manual, FloatSlider\n",
    "from IPython.display import clear_output\n",
    "import IPython.display as dsply\n",
    "import ipywidgets as widgets\n",
    "# Jupyter will always display the results of the last line of code we want to return a \"box\" with all widgets\n",
    "# we want displayed\n",
    "from ipywidgets import Box\n",
    "\n",
    "import OpticsFunctions\n",
    "import importlib\n",
    "\n",
    "# this re-loads every exectution (for now) so we can make code changes\n",
    "importlib.reload(OpticsFunctions)\n",
    "\n",
    "input_file_path = \"input/Table5B_For_Search.xlsx\"\n",
    "df = pd.read_excel(input_file_path, engine=\"openpyxl\")\n",
    "\n",
    "search_type = \"string\"\n",
    "search_min_val = 0\n",
    "search_max_val = 0\n",
    "\n",
    "search_column = \"\"\n",
    "search_value = \"\"\n",
    "\n",
    "search_description = \"\"\n",
    "\n",
    "filtered_df = pd.DataFrame()\n",
    "\n",
    "debugEnabled = False\n",
    "\n",
    "def set_search_params(Search):\n",
    "    global search_column\n",
    "    global search_type\n",
    "    global search_min_val\n",
    "    global search_max_val\n",
    "\n",
    "    search_column = Search\n",
    "    if debugEnabled: \n",
    "        print(\"set_search_params() -> search_column has been set to \" + search_column)\n",
    "    \n",
    "    # collect data types\n",
    "    data_type_present_in_target = df[search_column].dtype\n",
    "    # print(f\"Search column contains the following data types: {data_type_present_in_target}\")\n",
    "\n",
    "    stringSearchBox.layout.display = 'none'\n",
    "    minNumSearchBox.layout.display = 'none'\n",
    "    maxNumSearchBox.layout.display = 'none'\n",
    "\n",
    "    if (data_type_present_in_target == 'object'):\n",
    "        search_type = \"string\"\n",
    "        stringSearchBox.layout.display = ''\n",
    "        #clean NaN values.  since it's a string column, just use \"No Dada\"\n",
    "        df[search_column].fillna(\"No Data\", inplace = True)\n",
    "    elif (data_type_present_in_target == 'float64'):\n",
    "        search_type = \"number\"\n",
    "        minNumSearchBox.layout.display = ''\n",
    "        maxNumSearchBox.layout.display = ''\n",
    "        \n",
    "        search_min_val = df[search_column].min()\n",
    "        search_max_val = df[search_column].max()\n",
    "        minNumSearchBox.Value = search_min_val\n",
    "        maxNumSearchBox.Value = search_max_val\n",
    "        # print(\"min value:\" + str(search_min_val))\n",
    "        # print(\"max value:\" + str(search_max_val))\n",
    "\n",
    "    if debugEnabled: \n",
    "        print(\"set_search_params() -> search_type has been set to \" + search_type)\n",
    "    \n",
    "def perform_search():\n",
    "    global search_type\n",
    "    global search_column\n",
    "    global search_value\n",
    "    global search_min_val\n",
    "    global search_max_val\n",
    "    global filtered_df\n",
    "    global search_description\n",
    "\n",
    "    # print(f\"Worksheet contains the following data types: {data_frame.dtypes}\")\n",
    "    # print(search_column)\n",
    "    # print(search_value)\n",
    "    \n",
    "    \n",
    "    try:\n",
    "        if (search_type == \"string\"):\n",
    "            search_description = \"search_column=>\" + search_column + \", search_type=>\" + search_type + \", search_value=>\" + search_value\n",
    "            \n",
    "            filtered_df  = df[df[search_column].str.contains(search_value, case=False)]\n",
    "        else:\n",
    "            search_description = \"search_column=>\" + search_column + \", search_type=>\" + search_type + \", min=>\" + search_min_val + \", max=>\" + search_max_val\n",
    "    \n",
    "            # print(f\"Unable to run text query: {e}\")\n",
    "            # print(\"reverting to basic query that will work for numbers\")\n",
    "    \n",
    "            # generate our query (if column names have whitespace we must wrap in back ticks)\n",
    "            # query_to_run = f\"`{search_column}` == {search_value}\"\n",
    "            # query_to_run = f\"`{search_column}` >= {str(search_min_val)}\" # and `{search_column}` <= {str(search_max_val)}\"\n",
    "    \n",
    "            numeric_minimum = float(search_min_val)\n",
    "            numeric_maximum = float(search_max_val)\n",
    "            filtered_df = df[df[search_column].between(numeric_minimum, numeric_maximum)]\n",
    "            \n",
    "            # print(f\"running query -> {query_to_run}\")\n",
    "    \n",
    "            # TODO: might be better to do all this with inplace=True but would require reworking\n",
    "            # result_df = df.query(query_to_run, inplace=False)\n",
    "            \n",
    "        # return result_df\n",
    "    except:\n",
    "        # Do nothing for now\n",
    "        # print(\"unable to run query\")\n",
    "        print(\"\")\n",
    "\n",
    "\n",
    "# Make the options dynamic to the columns of the data table\n",
    "dataColumns = list(df.columns)\n",
    "# TODO: add ability to search all columns\n",
    "# dataColumns.insert(0, \"< Any Column >\")\n",
    "\n",
    " #def columnChosen(Search):\n",
    "#   set_search_params(Search)\n",
    "    \n",
    "def stringSearchHandler(Containing): \n",
    "    # set_search_params(c=Search, v=Value)\n",
    "    global search_value\n",
    "    search_value = Containing\n",
    "    if debugEnabled: \n",
    "        print(\"stringSearchHandler() -> string value found ->\" + Value);\n",
    "    # perform_search()\n",
    "\n",
    "def numberSearchHandlerMinimum(Minimum): \n",
    "    global search_min_val\n",
    "    if debugEnabled: \n",
    "        print(\"numberSearchHandlerMinimum() -> numeric value found ->\" + str(Minimum));\n",
    "    search_min_val = Minimum\n",
    "    # perform_search()\n",
    "    \n",
    "def numberSearchHandlerMaximum(Maximum): \n",
    "    global search_max_val\n",
    "    if debugEnabled: \n",
    "        print(\"numberSearchHandlerMaximum() -> numeric value found ->\" + str(Maximum));\n",
    "    search_max_val = Maximum\n",
    "    # perform_search()\n",
    "    \n",
    "def h(p, q):\n",
    "    return (p, q)\n",
    "\n",
    "stringSearchBox = interactive(stringSearchHandler, Containing=\"\")\n",
    "minNumSearchBox = interactive(numberSearchHandlerMinimum, Minimum=(str(search_min_val)))\n",
    "maxNumSearchBox = interactive(numberSearchHandlerMaximum, Maximum=(str(search_max_val)))\n",
    "\n",
    "def toggleDebug(Display_Debug_Messages):\n",
    "    global debugEnabled\n",
    "    debugEnabled = Display_Debug_Messages\n",
    "    \n",
    "debugCheckBox = interactive(toggleDebug, Display_Debug_Messages=debugEnabled)\n",
    "searchColumnDropdown = interactive(set_search_params, Search=dataColumns)\n",
    "\n",
    "display(debugCheckBox, searchColumnDropdown)\n",
    "\n",
    "# comment the line out below to enable debug\n",
    "debugCheckBox.layout.display = \"none\"\n",
    "\n",
    "# we get a weird output without a print here\n",
    "# TODO: figure out what's going on\n",
    "print(\"\")"
   ]
  },
  {
   "cell_type": "code",
   "execution_count": 2,
   "id": "097c8be3-73af-4f80-8d90-cb44f7e9e9a1",
   "metadata": {},
   "outputs": [
    {
     "data": {
      "application/vnd.jupyter.widget-view+json": {
       "model_id": "ed3a26909e1f4a0c8d182a62acd807c6",
       "version_major": 2,
       "version_minor": 0
      },
      "text/plain": [
       "interactive(children=(Text(value='', description='Value'), Output()), layout=Layout(display=''), _dom_classes=…"
      ]
     },
     "metadata": {},
     "output_type": "display_data"
    },
    {
     "data": {
      "application/vnd.jupyter.widget-view+json": {
       "model_id": "662d899f48f842d9a43a68fd99d630f7",
       "version_major": 2,
       "version_minor": 0
      },
      "text/plain": [
       "interactive(children=(Text(value='0', description='Minimum'), Output()), layout=Layout(display='none'), _dom_c…"
      ]
     },
     "metadata": {},
     "output_type": "display_data"
    },
    {
     "data": {
      "application/vnd.jupyter.widget-view+json": {
       "model_id": "39bb346542b641c0b0fb8e6fabfdc4dd",
       "version_major": 2,
       "version_minor": 0
      },
      "text/plain": [
       "interactive(children=(Text(value='0', description='Maximum'), Output()), layout=Layout(display='none'), _dom_c…"
      ]
     },
     "metadata": {},
     "output_type": "display_data"
    }
   ],
   "source": [
    "# when this cell is executed it will render proper search controls for the selected column\n",
    "# either a text box for a string column or min/max range boxes for a numeric column\n",
    "\n",
    "dsply.display(stringSearchBox, minNumSearchBox, maxNumSearchBox)\n",
    "\n",
    "\n",
    "\n",
    "    "
   ]
  },
  {
   "cell_type": "code",
   "execution_count": 3,
   "id": "03204602-1b3a-4166-b066-79abde599a6b",
   "metadata": {},
   "outputs": [
    {
     "data": {
      "application/vnd.jupyter.widget-view+json": {
       "model_id": "9d5be6e4707d47d2b58c9c3712a5b7bb",
       "version_major": 2,
       "version_minor": 0
      },
      "text/plain": [
       "Button(description='Run Search', style=ButtonStyle())"
      ]
     },
     "metadata": {},
     "output_type": "display_data"
    },
    {
     "data": {
      "application/vnd.jupyter.widget-view+json": {
       "model_id": "73c64a0eea4d48ebb9ce637e29f6bad2",
       "version_major": 2,
       "version_minor": 0
      },
      "text/plain": [
       "Output()"
      ]
     },
     "metadata": {},
     "output_type": "display_data"
    }
   ],
   "source": [
    "def click_runSearch(b):\n",
    "    perform_search()\n",
    "    \n",
    "    with runSearchOutput:\n",
    "        clear_output()\n",
    "        if debugEnabled: \n",
    "            print(search_description)\n",
    "\n",
    "        display(filtered_df)\n",
    "\n",
    "runSearchOutput = widgets.Output()\n",
    "runSearchButton = widgets.Button(description=\"Run Search\")\n",
    "runSearchButton.on_click(click_runSearch)\n",
    "\n",
    "dsply.display(runSearchButton, runSearchOutput)\n",
    "\n",
    "#This just makes the data frame display initially (with no filter)\n",
    "click_runSearch(runSearchButton)"
   ]
  },
  {
   "cell_type": "code",
   "execution_count": 4,
   "id": "66265eb2-7b0b-45a3-938b-99ff90304d7e",
   "metadata": {},
   "outputs": [
    {
     "data": {
      "application/vnd.jupyter.widget-view+json": {
       "model_id": "04b31804ea5b406d8f4731395b730fca",
       "version_major": 2,
       "version_minor": 0
      },
      "text/plain": [
       "Button(description='Export Results', style=ButtonStyle())"
      ]
     },
     "metadata": {},
     "output_type": "display_data"
    },
    {
     "data": {
      "application/vnd.jupyter.widget-view+json": {
       "model_id": "4461e7d64a6a4e9482b6afadc2715854",
       "version_major": 2,
       "version_minor": 0
      },
      "text/plain": [
       "Output()"
      ]
     },
     "metadata": {},
     "output_type": "display_data"
    }
   ],
   "source": [
    "def click_run_export(b):\n",
    "    \n",
    "    with runExportOutput:\n",
    "        clear_output()\n",
    "        OpticsFunctions.export_to_csv(filtered_df)\n",
    "\n",
    "runExportOutput = widgets.Output()\n",
    "runExportButton = widgets.Button(description=\"Export Results\")\n",
    "runExportButton.on_click(click_run_export)\n",
    "\n",
    "dsply.display(runExportButton, runExportOutput)\n"
   ]
  },
  {
   "cell_type": "code",
   "execution_count": null,
   "id": "307a36f4-3f91-4c8c-b020-b68ed1e5a95c",
   "metadata": {},
   "outputs": [],
   "source": []
  }
 ],
 "metadata": {
  "kernelspec": {
   "display_name": "Python 3 (ipykernel)",
   "language": "python",
   "name": "python3"
  },
  "language_info": {
   "codemirror_mode": {
    "name": "ipython",
    "version": 3
   },
   "file_extension": ".py",
   "mimetype": "text/x-python",
   "name": "python",
   "nbconvert_exporter": "python",
   "pygments_lexer": "ipython3",
   "version": "3.12.1"
  }
 },
 "nbformat": 4,
 "nbformat_minor": 5
}
